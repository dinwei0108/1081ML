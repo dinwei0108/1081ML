{
 "cells": [
  {
   "cell_type": "markdown",
   "metadata": {},
   "source": [
    "# Homework2"
   ]
  },
  {
   "cell_type": "markdown",
   "metadata": {},
   "source": [
    "1.利用使用者所輸入的球體半徑來計算其體積(V)及表面積(A)：V = 4/3πr3 , A = 4πr2"
   ]
  },
  {
   "cell_type": "code",
   "execution_count": 118,
   "metadata": {},
   "outputs": [
    {
     "name": "stdout",
     "output_type": "stream",
     "text": [
      "請輸入球體半徑：4\n",
      "球體體積：268.0161792\n",
      "球體表面積：201.0624\n"
     ]
    }
   ],
   "source": [
    "#!/usr/bin/python\n",
    "pi = 3.14160\n",
    "r = eval(input(\"請輸入球體半徑：\"))\n",
    "print(\"球體體積：\"+ str(1.333*pi*r**3))\n",
    "print(\"球體表面積：\"+ str(4*pi*r**2))"
   ]
  },
  {
   "cell_type": "markdown",
   "metadata": {},
   "source": [
    "2.工人欲粉刷某個高度的牆壁，所需使用梯子的長度為何？由使用者輸入高度及梯子與地面的角度。"
   ]
  },
  {
   "cell_type": "code",
   "execution_count": 123,
   "metadata": {},
   "outputs": [
    {
     "name": "stdout",
     "output_type": "stream",
     "text": [
      "請輸入牆壁高度：10\n",
      "輸入梯子角度：30\n",
      "20.000000000000004\n"
     ]
    }
   ],
   "source": [
    "#!/usr/bin/python\n",
    "import math;\n",
    "h = eval(input(\"請輸入牆壁高度：\"))\n",
    "angle = eval(input(\"輸入梯子角度：\"))\n",
    "print(h/math.sin(math.radians(angle))) "
   ]
  },
  {
   "cell_type": "markdown",
   "metadata": {},
   "source": [
    "3.π 的近似值可以如此計算：4/1 – 4/3 + 4/5 – 4/7 + 4/9 – 4/11 + ...，令使用者輸入要計算幾個項目，然後計算 π 的近似值。"
   ]
  },
  {
   "cell_type": "code",
   "execution_count": 2,
   "metadata": {},
   "outputs": [
    {
     "name": "stdout",
     "output_type": "stream",
     "text": [
      "輸入n值：6\n",
      "2.9760461760461765\n"
     ]
    }
   ],
   "source": [
    "#!/usr/bin/python\n",
    "n = eval(input(\"輸入n值：\"))\n",
    "sum = 0\n",
    "for i in range(n):\n",
    "   if ( i%2 == 0 ):\n",
    "      sum = sum + 4/(2*i+1)\n",
    "   else:\n",
    "      sum = sum - 4/(2*i+1)\n",
    "print(sum)  "
   ]
  },
  {
   "cell_type": "markdown",
   "metadata": {},
   "source": [
    "4.將 avg2.py 程式改為計算 3 個分數的平均值。"
   ]
  },
  {
   "cell_type": "code",
   "execution_count": 3,
   "metadata": {},
   "outputs": [
    {
     "name": "stdout",
     "output_type": "stream",
     "text": [
      "請輸入3個分數，並用逗點隔開:88,81,95\n",
      "平均分數為: 88.0\n"
     ]
    }
   ],
   "source": [
    "#!/usr/bin/python\n",
    "score1, score2, score3 = eval(input(\"請輸入3個成績，並用逗點隔開:\"))\n",
    "average = (score1+score2+score3)/3\n",
    "print(\"平均成績為:\", average)"
   ]
  },
  {
   "cell_type": "markdown",
   "metadata": {},
   "source": [
    "5.將 convert.py 程式改為利用 for 迴圈計算 5 次度數轉換。"
   ]
  },
  {
   "cell_type": "code",
   "execution_count": 62,
   "metadata": {},
   "outputs": [
    {
     "name": "stdout",
     "output_type": "stream",
     "text": [
      "請輸入攝式溫度：60\n",
      "華式溫度：140 °F\n",
      "請輸入攝式溫度：40\n",
      "華式溫度：104 °F\n",
      "請輸入攝式溫度：20\n",
      "華式溫度：68 °F\n",
      "請輸入攝式溫度：80\n",
      "華式溫度：176 °F\n",
      "請輸入攝式溫度：20\n",
      "華式溫度：68 °F\n"
     ]
    }
   ],
   "source": [
    "#!/usr/bin/python\n",
    "for i in range(5):\n",
    "   c = eval(input(\"請輸入攝式溫度：\"))\n",
    "   fahrenheit = 9/5*c + 32\n",
    "   print(\"華式溫度：%d °F\" % (fahrenheit) )"
   ]
  },
  {
   "cell_type": "markdown",
   "metadata": {},
   "source": [
    "6.將 futval.py 程式改為依照使用者指定年限來計算未來價值。"
   ]
  },
  {
   "cell_type": "code",
   "execution_count": 64,
   "metadata": {},
   "outputs": [
    {
     "name": "stdout",
     "output_type": "stream",
     "text": [
      "The program calculates the future value of a year investment.\n",
      "Enter the initial principal:20000\n",
      "Enter the annual interest rate:0.45\n",
      "請輸入年限值：20\n",
      "The value in 10 year is: 33759036.2837047\n"
     ]
    }
   ],
   "source": [
    "print(\"The program calculates the future value of a year investment.\")\n",
    "principal = eval(input(\"Enter the initial principal:\"))\n",
    "apr = eval(input(\"Enter the annual interest rate:\"))\n",
    "yyy = eval(input(\"請輸入年限值：\"))\n",
    "for i in range(1,yyy+1):\n",
    "    principal=principal*(1+apr)\n",
    "print(\"The value in 10 year is:\", principal)"
   ]
  },
  {
   "cell_type": "markdown",
   "metadata": {},
   "source": [
    "7.撰寫程式計算兩個正整數的最大公因數(Greatest common divisor, GCD)。\n",
    "假設 g 是兩個正整數 n 及 m 的最大公因數，因此 n 及 m 都是g 的倍數。\n",
    "歐幾里德(Euclid)依據中國餘數定理(Chinese Remainder Theorem)提出了\n",
    "計算 GCD 的簡單演算法 g = GCD(n, m)，n > m：主要概念為從 n、m 開始，重複計算一序列的餘數直到最後餘數為0。\n",
    "例如：n = 80,844, m = 25,320，g = GCD(80844, 25320) = 12：\n",
    "\n",
    "80,844 mod 25,320 = 4,844\n",
    "25,320 mod 4,844 = 900\n",
    "4,844 mod 900 = 384\n",
    "900 mod 384 = 132\n",
    "384 mod 132 = 120\n",
    "132 mod 120 = 12\n",
    "120 mod 12 = 0"
   ]
  },
  {
   "cell_type": "code",
   "execution_count": 147,
   "metadata": {},
   "outputs": [
    {
     "name": "stdout",
     "output_type": "stream",
     "text": [
      "輸入第1個數：200\n",
      "輸入第2個數：45\n",
      " 200 45 \n",
      "20\n",
      "5\n",
      "GCD = 5\n"
     ]
    }
   ],
   "source": [
    "a = eval(input(\"輸入第1個數：\"))\n",
    "b = eval(input(\"輸入第2個數：\"))\n",
    "if ( a < b ):\n",
    "    (a ,b) =  ( b , a )\n",
    "#print (\" %d %d \" %(a ,b) )\n",
    "if ( a == b ):\n",
    "    print(\"Same value. GCD=%d\" %(a))\n",
    "else:\n",
    "    result = a % b \n",
    "    while (result):\n",
    "        print(result)\n",
    "        a = b\n",
    "        b = result\n",
    "        result = a % b \n",
    "        if (result !=0 ):\n",
    "            continue\n",
    "            \n",
    "        else:\n",
    "            print (\"GCD = %d\" %(b))\n",
    "            break\n",
    "       "
   ]
  },
  {
   "cell_type": "markdown",
   "metadata": {},
   "source": [
    "8.寫一個互動式程式，讓使用者能夠輸入數值計算表示式，然後印出最後計算值。\n",
    "加入一個 for 迴圈讓使用者能一直輸入表示式。程式如何結束？當使用者輸入錯誤表示式時，讓程式當掉。"
   ]
  },
  {
   "cell_type": "markdown",
   "metadata": {},
   "source": [
    "9.許多老師將學生成績以等級來記錄：90~100：A，80~89：B，70~79：C，60~69：D，0~59：F。請寫程式讓使用者輸入一個分數，然後程式印出其等級。"
   ]
  },
  {
   "cell_type": "code",
   "execution_count": 11,
   "metadata": {},
   "outputs": [
    {
     "name": "stdout",
     "output_type": "stream",
     "text": [
      "請輸入學生的成績：75\n",
      "C\n"
     ]
    }
   ],
   "source": [
    "#!/usr/bin/python\n",
    "score = eval( input (\"請輸入學生的成績：\") )\n",
    "list = [ \"F\", \"F\",\"F\",\"F\",\"F\",\"F\",\"D\",\"C\",\"B\",\"A\",\"A\" ]\n",
    "print(list[score//10])"
   ]
  },
  {
   "cell_type": "markdown",
   "metadata": {},
   "source": [
    "10.承上題，程式讀取一個檔案，檔案中每行都是一個 0~100 的分數，將每行分數轉為等級後，產生一個輸出等級檔案。"
   ]
  },
  {
   "cell_type": "code",
   "execution_count": 46,
   "metadata": {},
   "outputs": [
    {
     "name": "stdout",
     "output_type": "stream",
     "text": [
      "A\n",
      "A\n",
      "A\n",
      "B\n",
      "B\n",
      "A\n",
      "A\n",
      "B\n",
      "C\n",
      "A\n",
      "A\n",
      "A\n"
     ]
    },
    {
     "data": {
      "text/plain": [
       "<function TextIOWrapper.close>"
      ]
     },
     "execution_count": 46,
     "metadata": {},
     "output_type": "execute_result"
    }
   ],
   "source": [
    "fInputFilePtr = open('C:\\\\Users\\\\DINWEI\\\\Desktop\\\\scorelist.txt', 'r')\n",
    "fOutFilePtr = open('C:\\\\Users\\\\DINWEI\\\\Desktop\\\\scorerank.txt', 'w')\n",
    "list = [ \"F\", \"F\",\"F\",\"F\",\"F\",\"F\",\"D\",\"C\",\"B\",\"A\",\"A\" ]\n",
    "InputLine = fInputFilePtr.readlines()\n",
    "for score in InputLine:\n",
    "    int_score = int(score)\n",
    "    print(list[int_score//10])\n",
    "    fOutFilePtr.write(list[int_score//10])\n",
    "fInputFilePtr.close\n",
    "fOutFilePrt.close\n",
    "\n",
    "\n"
   ]
  },
  {
   "cell_type": "markdown",
   "metadata": {},
   "source": [
    "11.首字縮寫字(Acronym)是將許多字的第一個字母取出並改為大寫後所組成的字，例如 RAM 是\"random access memory\"的縮寫字。\n",
    "請撰寫程式讓使用者輸入一組字，然後印出首字縮寫字。"
   ]
  },
  {
   "cell_type": "code",
   "execution_count": 76,
   "metadata": {},
   "outputs": [
    {
     "name": "stdout",
     "output_type": "stream",
     "text": [
      "請輸入一串字：random access memory\n",
      "['random', 'access', 'memory']\n",
      "ACE"
     ]
    }
   ],
   "source": [
    "InputLine = input (\"請輸入一串字：\")\n",
    "print( InputLine.split(' '))\n",
    "array = InputLine.split(' ')\n",
    "\n",
    "#print(len(array))\n",
    "for i in range(len(array)):\n",
    "    print(array[i][0].title(),end=\"\")"
   ]
  },
  {
   "cell_type": "markdown",
   "metadata": {},
   "source": [
    "12.許多命理學家宣稱他們可以藉由一個人的生日決定一個人的人格特質，人格特質數字是由生日的數字持續相加而來，\n",
    "例如：1976 年 11月 25 日，人格特質數字為 1976 + 25 + 11 = 2012 = 2 + 0 + 1 + 2 = 直到剩下一個個位數字。\n",
    "請撰寫程式，使用者輸入其生日(格式：mm/dd/yyyy)，程式輸出其數值。(http://www.starlightnumerology.com/numbertable.htm)"
   ]
  },
  {
   "cell_type": "code",
   "execution_count": 79,
   "metadata": {},
   "outputs": [
    {
     "name": "stdout",
     "output_type": "stream",
     "text": [
      "請輸入日生(mm/dd/yyyy)：25/01/1985\n",
      "4\n"
     ]
    }
   ],
   "source": [
    "InputLine = input(\"請輸入日生(mm/dd/yyyy)：\")\n",
    "array = InputLine.split(\"/\")\n",
    "sum = int(array[0]) + int(array[1]) + int(array[2])\n",
    "a = sum//1000\n",
    "b = ( sum -a*1000) //100\n",
    "c = ( sum - a*1000 - b*100) //10\n",
    "d = sum %10\n",
    "print(a+b+c+d)"
   ]
  },
  {
   "cell_type": "markdown",
   "metadata": {},
   "source": [
    "13.輸入若干n個數字，輸出指定第k大的數字。如果k=0就結束程式。\n",
    "      Sample input: 6 8 15 29 35 47 77 3 2 4 1 0\n",
    "      Sample output: \n",
    "    第3大的數字是 35\n",
    "    第2大的數字是 47\n",
    "    第4大的數字是 29\n",
    "    第1大的數字是 77"
   ]
  },
  {
   "cell_type": "code",
   "execution_count": 95,
   "metadata": {},
   "outputs": [
    {
     "name": "stdout",
     "output_type": "stream",
     "text": [
      "Sample input：1 5 9 7 5 3 8 5 2 4 5 6\n",
      "輸入第N大的數字：8\n",
      "6\n"
     ]
    }
   ],
   "source": [
    "InputLine = input(\"Sample input：\")\n",
    "n = eval(input(\"輸入第N大的數字：\"))\n",
    "array = InputLine.split(\" \")\n",
    "array.sort()\n",
    "print(array[n])\n",
    "#print(array)"
   ]
  },
  {
   "cell_type": "markdown",
   "metadata": {},
   "source": [
    "14.設計一個薪資試算程式，要求使用者輸入月薪為何？ 以及工作年數為何？並結算該年之中可以獲得多少薪資？以及平均每日賺得多少薪資？"
   ]
  },
  {
   "cell_type": "code",
   "execution_count": 99,
   "metadata": {},
   "outputs": [
    {
     "name": "stdout",
     "output_type": "stream",
     "text": [
      "請輸入月薪：50000\n",
      "請輸入工作年數：6\n",
      "總共獲得 3600000 元\n",
      "平均每日 1643 元\n"
     ]
    }
   ],
   "source": [
    "money = eval(input(\"請輸入月薪：\"))\n",
    "year = eval(input(\"請輸入工作年數：\"))\n",
    "print(\"總共獲得 %d 元\" % (money*year*12))\n",
    "print(\"平均每日 %d 元\" % (money*12/365))"
   ]
  },
  {
   "cell_type": "markdown",
   "metadata": {},
   "source": [
    "15.使用 range() 的方式，設計九九乘法表，將『數字1』到『數字81』print 出來 。"
   ]
  },
  {
   "cell_type": "code",
   "execution_count": 110,
   "metadata": {},
   "outputs": [
    {
     "name": "stdout",
     "output_type": "stream",
     "text": [
      "1X1= 1 2X1= 2 3X1= 3 4X1= 4 5X1= 5 6X1= 6 7X1= 7 8X1= 8 9X1= 9 \n",
      "\n",
      "1X2= 2 2X2= 4 3X2= 6 4X2= 8 5X2=10 6X2=12 7X2=14 8X2=16 9X2=18 \n",
      "\n",
      "1X3= 3 2X3= 6 3X3= 9 4X3=12 5X3=15 6X3=18 7X3=21 8X3=24 9X3=27 \n",
      "\n",
      "1X4= 4 2X4= 8 3X4=12 4X4=16 5X4=20 6X4=24 7X4=28 8X4=32 9X4=36 \n",
      "\n",
      "1X5= 5 2X5=10 3X5=15 4X5=20 5X5=25 6X5=30 7X5=35 8X5=40 9X5=45 \n",
      "\n",
      "1X6= 6 2X6=12 3X6=18 4X6=24 5X6=30 6X6=36 7X6=42 8X6=48 9X6=54 \n",
      "\n",
      "1X7= 7 2X7=14 3X7=21 4X7=28 5X7=35 6X7=42 7X7=49 8X7=56 9X7=63 \n",
      "\n",
      "1X8= 8 2X8=16 3X8=24 4X8=32 5X8=40 6X8=48 7X8=56 8X8=64 9X8=72 \n",
      "\n",
      "1X9= 9 2X9=18 3X9=27 4X9=36 5X9=45 6X9=54 7X9=63 8X9=72 9X9=81 \n",
      "\n"
     ]
    }
   ],
   "source": [
    "#!/usr/bin/python\n",
    "for i in range (1,10):\n",
    "    for j in range (1,10):\n",
    "        print(\"%1dX%1d=%2d \" % (j,i,i*j),end=\"\")\n",
    "    print('\\n')"
   ]
  },
  {
   "cell_type": "code",
   "execution_count": null,
   "metadata": {},
   "outputs": [],
   "source": []
  }
 ],
 "metadata": {
  "kernelspec": {
   "display_name": "Python 3",
   "language": "python",
   "name": "python3"
  },
  "language_info": {
   "codemirror_mode": {
    "name": "ipython",
    "version": 3
   },
   "file_extension": ".py",
   "mimetype": "text/x-python",
   "name": "python",
   "nbconvert_exporter": "python",
   "pygments_lexer": "ipython3",
   "version": "3.6.4"
  }
 },
 "nbformat": 4,
 "nbformat_minor": 2
}
