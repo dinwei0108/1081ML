{
 "cells": [
  {
   "cell_type": "markdown",
   "metadata": {},
   "source": [
    "1. 身體質量指數(Body mass index, BMI)是由體重(公斤)除以身高(公尺)的平方，BMI 的分級如下。請撰寫程式由使用者輸入其體重(公斤)及身高(公分)，然後程式印出分級。\n",
    "(BMI <18.5：體重過輕\n",
    "18.5<=BMI<24：正常範圍\n",
    "24<=BMI<27：體重過重\n",
    "27<=BMI<30：輕度肥胖\n",
    "30<=BMI<=35：中度肥胖\n",
    "35<=BMI：重度肥胖)"
   ]
  },
  {
   "cell_type": "code",
   "execution_count": 80,
   "metadata": {},
   "outputs": [
    {
     "name": "stdout",
     "output_type": "stream",
     "text": [
      "請輸入身高(公分)：171\n",
      "請輸入體重(公斤)：90\n",
      "30.778701138811947\n",
      "中度肥胖\n"
     ]
    }
   ],
   "source": [
    "ihigh = int(input(\"請輸入身高(公分)：\"))\n",
    "iweight = int(input(\"請輸入體重(公斤)：\"))\n",
    "bmi = iweight / (ihigh/100)**2;\n",
    "print(bmi)\n",
    "if ( bmi < 18.5 ):\n",
    "    print(\"體重過輕\")\n",
    "elif ( bmi>=18.5 and bmi<24 ):\n",
    "    print(\"正常範圍\")\n",
    "elif ( bmi>=24 and bmi<27 ):\n",
    "    print(\"體重過重\")\n",
    "elif ( bmi>=27 and bmi<30 ):\n",
    "    print(\"輕度肥胖\")\n",
    "elif ( bmi>=30 and bmi<=35 ):\n",
    "    print(\"中度肥胖\")\n",
    "else:\n",
    "    print(\"重度肥胖\")\n",
    "    "
   ]
  },
  {
   "cell_type": "markdown",
   "metadata": {},
   "source": [
    "2.閏年(Leap year)比平年(365 天)多一天，亦即366 天。判斷閏年的方式如下(任\n",
    "一條件符合均可)：能被4 整除但不能被100 整除者/能被400 整除者\n",
    "請撰寫一程式，由使用者輸入西元年，程式判斷是否為閏年。"
   ]
  },
  {
   "cell_type": "code",
   "execution_count": 62,
   "metadata": {},
   "outputs": [
    {
     "name": "stdout",
     "output_type": "stream",
     "text": [
      "請輸入西元年份：1980\n",
      "3\n",
      "潤年\n"
     ]
    }
   ],
   "source": [
    "iYY = int(input(\"請輸入西元年份：\"))\n",
    "#print(iYY)\n",
    "iYY_high = iYY //100;\n",
    "iYY_low = iYY %100;\n",
    "print(iYY_high%4)\n",
    "if ( (iYY_high%4) == 0 or (iYY_low%4) == 0 ):\n",
    "    print(\"潤年\")\n",
    "else:\n",
    "    print(\"平年\")"
   ]
  },
  {
   "cell_type": "markdown",
   "metadata": {},
   "source": [
    "3. 請撰寫一個程式，接受使用者輸入日期，格式為mm/dd/yyyy (month, day,\n",
    "year)，程式判斷該日期是否正確。例如：09/31/2011 錯誤，因為9 月只有30\n",
    "天；02/29/2011 錯誤，因為2011 並非閏年"
   ]
  },
  {
   "cell_type": "code",
   "execution_count": 78,
   "metadata": {},
   "outputs": [
    {
     "name": "stdout",
     "output_type": "stream",
     "text": [
      "請輸入西元年份：1980/10/31\n",
      "3\n",
      "正確\n"
     ]
    }
   ],
   "source": [
    "ddd= str(input(\"請輸入西元年份：\"))\n",
    "a = ddd.split(\"/\", 2)\n",
    "iYY = int(a[0])\n",
    "iMM = int(a[1])\n",
    "iDD = int(a[2])\n",
    "\n",
    "iYY_high = iYY //100;\n",
    "iYY_low = iYY %100;\n",
    "print(iYY_high%4)\n",
    "if ( (iYY_high%4) == 0 or (iYY_low%4) == 0 ):\n",
    "    shro = 28\n",
    "else:\n",
    "    shro = 29\n",
    "    \n",
    "if ( iMM==2 and iDD >29 ):\n",
    "    print(\"錯誤\")\n",
    "elif ( (iMM==1 or iMM==3 or iMM==5 or iMM==7 or iMM==8 or iMM==10 or iMM==12) and iDD >31 ):\n",
    "    print(\"錯誤\")\n",
    "elif ( (iMM==4 or iMM==6 or iMM==9 or iMM==11) and iDD >30):\n",
    "    print(\"錯誤\")\n",
    "else:\n",
    "    print(\"正確\")\n"
   ]
  },
  {
   "cell_type": "markdown",
   "metadata": {},
   "source": [
    "4. 如果任何大於2 的正整數n 為質數，則任何整數m，2 ≤ m ≤ ，都無法整\n",
    "除n。請撰寫一程式，由使用者輸入n，程式判斷其是否為質數。"
   ]
  },
  {
   "cell_type": "code",
   "execution_count": 93,
   "metadata": {},
   "outputs": [
    {
     "name": "stdout",
     "output_type": "stream",
     "text": [
      "請輸入一個數字: 2\n",
      "2 是質數\n"
     ]
    }
   ],
   "source": [
    "num = int(input(\"請輸入一個數字: \"))\n",
    " \n",
    "if num > 1:\n",
    "   for i in range(2,num):\n",
    "       if (num % i) == 0:\n",
    "           print(num,\"不是質數\")\n",
    "           break\n",
    "   else:\n",
    "       print(num,\"是質數\")\n",
    "else:\n",
    "   print(num,\"1不能算啦\")\n",
    "    "
   ]
  },
  {
   "cell_type": "markdown",
   "metadata": {},
   "source": [
    "5. 修改上述程式，列出所有小於或等於n 的質數。"
   ]
  },
  {
   "cell_type": "code",
   "execution_count": 106,
   "metadata": {},
   "outputs": [
    {
     "name": "stdout",
     "output_type": "stream",
     "text": [
      "請輸入一個數字: 30\n",
      "3 5 7 11 13 17 19 23 29 "
     ]
    }
   ],
   "source": [
    "num = int(input(\"請輸入一個數字: \"))\n",
    "if num > 1:\n",
    "    if (num == 2):\n",
    "        print(x,\"質數\")\n",
    "    for x in range(3,num):\n",
    "        flag=0\n",
    "        for i in range(2,x):\n",
    "            if (x % i) == 0:\n",
    "                #print(x,\"不是質數\")\n",
    "                flag = 1\n",
    "                break\n",
    "        if flag == 0:\n",
    "            print(x,end=\" \")\n",
    "else:\n",
    "    print(num,\"1不能算啦\")"
   ]
  },
  {
   "cell_type": "code",
   "execution_count": null,
   "metadata": {},
   "outputs": [],
   "source": []
  }
 ],
 "metadata": {
  "kernelspec": {
   "display_name": "Python 3",
   "language": "python",
   "name": "python3"
  },
  "language_info": {
   "codemirror_mode": {
    "name": "ipython",
    "version": 3
   },
   "file_extension": ".py",
   "mimetype": "text/x-python",
   "name": "python",
   "nbconvert_exporter": "python",
   "pygments_lexer": "ipython3",
   "version": "3.7.3"
  }
 },
 "nbformat": 4,
 "nbformat_minor": 2
}
